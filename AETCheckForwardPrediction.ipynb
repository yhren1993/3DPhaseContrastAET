{
 "cells": [
  {
   "cell_type": "code",
   "execution_count": null,
   "metadata": {},
   "outputs": [],
   "source": []
  },
  {
   "cell_type": "code",
   "execution_count": null,
   "metadata": {},
   "outputs": [],
   "source": []
  },
  {
   "cell_type": "code",
   "execution_count": null,
   "metadata": {},
   "outputs": [],
   "source": [
    "#Specify code location\n",
    "import sys\n",
    "sys.path.append('/home/general/TEMcode/tomography_gpu/')"
   ]
  },
  {
   "cell_type": "code",
   "execution_count": null,
   "metadata": {
    "scrolled": true
   },
   "outputs": [],
   "source": [
    "%load_ext autoreload\n",
    "%autoreload 2\n",
    "%matplotlib notebook\n",
    "import numpy as np\n",
    "import matplotlib.pyplot as plt\n",
    "import scipy.io as sio\n",
    "import os\n",
    "import fnmatch\n",
    "import contexttimer\n",
    "import TEM_misc, TEM_recon\n",
    "import sys\n",
    "import h5py\n",
    "#For Lahvahn\n",
    "sys.path.append('D:\\\\David\\\\libwallerlab\\\\python\\\\libwallerlab\\\\tomography_gpu')\n",
    "#For YONGHUAN_PC\n",
    "sys.path.append('L:\\\\David\\\\libwallerlab\\\\python\\\\libwallerlab\\\\tomography_gpu')\n",
    "#For COSMOS\n",
    "sys.path.append('/home/david/lahvahn_david/libwallerlab/python/libwallerlab/tomography_gpu/')\n",
    "#For others\n",
    "sys.path.append('T:\\\\David\\\\libwallerlab\\\\python\\\\libwallerlab\\\\tomography_gpu')\n",
    "from opticaltomography.opticsutil import compare3DStack, show3DStack\n",
    "from opticaltomography.opticsalg import PhaseObject3D, TomographySolver, AlgorithmConfigs"
   ]
  },
  {
   "cell_type": "markdown",
   "metadata": {},
   "source": [
    "### Specify Parameters"
   ]
  },
  {
   "cell_type": "markdown",
   "metadata": {},
   "source": [
    "#### Secify the experiment numbers"
   ]
  },
  {
   "cell_type": "code",
   "execution_count": null,
   "metadata": {},
   "outputs": [],
   "source": [
    "exp_i = -1\n",
    "flag_add_noise = True"
   ]
  },
  {
   "cell_type": "markdown",
   "metadata": {},
   "source": [
    "#### Datapath"
   ]
  },
  {
   "cell_type": "code",
   "execution_count": null,
   "metadata": {},
   "outputs": [],
   "source": [
    "# Specify datapath\n",
    "rec_dir     = \"/home/general/TEMrec/\"\n",
    "mea_dir     = \"/home/general/TEMdata/\""
   ]
  },
  {
   "cell_type": "markdown",
   "metadata": {},
   "source": [
    "#### All dataset"
   ]
  },
  {
   "cell_type": "code",
   "execution_count": null,
   "metadata": {},
   "outputs": [],
   "source": [
    "# All datasets available (Preprocessed)\n",
    "datasets = {\n",
    "    \"sim_sio2_full\"                : \"TEM_simulation_480_SiO2_py.mat\",\n",
    "    \"sim_sio2_more_measure\"        : \"TEM_simulation_480_SiO2_full_py.mat\",\n",
    "    \"sim_sio2_full_vacant\"         : \"TEM_simulation_480_SiO2_vacancy_py.mat\",    \n",
    "}"
   ]
  },
  {
   "cell_type": "code",
   "execution_count": null,
   "metadata": {
    "scrolled": true
   },
   "outputs": [],
   "source": [
    "# Reconstruction\n",
    "for file in os.listdir(rec_dir):\n",
    "    if fnmatch.fnmatch(file, \"exp%s*\" % (str(exp_i))):\n",
    "        print(file)\n",
    "        reconstruction = sio.loadmat(rec_dir+file, squeeze_me=True)\n",
    "        break\n",
    "# Measurements\n",
    "dset = datasets[str(reconstruction[\"opts\"][\"dset\"])]\n",
    "print(dset)\n",
    "measurements = sio.loadmat(mea_dir+dset)"
   ]
  },
  {
   "cell_type": "markdown",
   "metadata": {},
   "source": [
    "#### Forward model"
   ]
  },
  {
   "cell_type": "code",
   "execution_count": null,
   "metadata": {
    "scrolled": true
   },
   "outputs": [],
   "source": [
    "if \"intensity_ms\" not in measurements:\n",
    "    if \"field_measure\" not in measurements:\n",
    "        intensity_measure = measurements[\"amplitude_measure\"] ** 2\n",
    "    else:\n",
    "        intensity_measure = np.abs(measurements[\"field_measure\"]) ** 2\n",
    "measurements[\"intensity_measure\"] = intensity_measure\n",
    "TEM_obj = TEM_recon.TEM_recon_gpu(measurements, reconstruction[\"opts\"])"
   ]
  },
  {
   "cell_type": "code",
   "execution_count": null,
   "metadata": {},
   "outputs": [],
   "source": [
    "with contexttimer.Timer() as timer:\n",
    "    TEM_obj.solver_obj._x = reconstruction[\"obj_final\"]\n",
    "    amplitude_measure = np.squeeze(TEM_obj.solver_obj.forwardPredict())\n",
    "    print(\"Time used:\", timer.elapsed)"
   ]
  },
  {
   "cell_type": "markdown",
   "metadata": {},
   "source": [
    "#### Add noise"
   ]
  },
  {
   "cell_type": "code",
   "execution_count": null,
   "metadata": {},
   "outputs": [],
   "source": [
    "if flag_add_noise:\n",
    "    dose = int(reconstruction[\"opts\"][\"dose_per_pixel\"])\n",
    "    temp = measurements[\"intensity_measure\"]\n",
    "    temp = np.random.poisson(temp * dose).astype(float)\n",
    "    temp /= dose\n",
    "    min_val = np.min(temp[:])\n",
    "    max_val = np.max(temp[:])    \n",
    "    print(\"Showing noisy intensity measurements.\")\n",
    "    print(\"min:\", min_val)\n",
    "    print(\"max:\", max_val)\n",
    "show3DStack(np.squeeze(temp[:,:,2,:]), clim=(min_val,max_val))"
   ]
  },
  {
   "cell_type": "markdown",
   "metadata": {},
   "source": [
    "#### Compare 3D Stack"
   ]
  },
  {
   "cell_type": "code",
   "execution_count": null,
   "metadata": {
    "scrolled": true
   },
   "outputs": [],
   "source": [
    "true_meas = np.abs(np.squeeze(measurements[\"intensity_measure\"][:,:,0,:]**0.5))\n",
    "min_val = np.min(true_meas[:])\n",
    "max_val = np.max(true_meas[:])\n",
    "print(\"min:\", min_val)\n",
    "print(\"max:\", max_val)\n",
    "diff_obj = np.abs(true_meas - np.abs(np.squeeze(amplitude_measure[:,:,0,:])))\n",
    "compare3DStack(true_meas, np.abs(np.squeeze(amplitude_measure[:,:,0,:])), clim=(min_val,max_val))"
   ]
  },
  {
   "cell_type": "code",
   "execution_count": null,
   "metadata": {},
   "outputs": [],
   "source": [
    "min_val = np.min(diff_obj[:])\n",
    "max_val = np.max(diff_obj[:])\n",
    "print(\"min:\", min_val)\n",
    "print(\"max:\", max_val)\n",
    "show3DStack(diff_obj, clim=(min_val,max_val))"
   ]
  },
  {
   "cell_type": "code",
   "execution_count": null,
   "metadata": {
    "scrolled": true
   },
   "outputs": [],
   "source": [
    "true_meas = np.squeeze(measurements[\"intensity_measure\"][:,:,2,:]**0.5)\n",
    "min_val = np.min(true_meas[:])\n",
    "max_val = np.max(true_meas[:])\n",
    "print(\"min:\", min_val)\n",
    "print(\"max:\", max_val)\n",
    "diff_obj = np.abs(true_meas - np.abs(np.squeeze(amplitude_measure[:,:,2,:])))\n",
    "compare3DStack(true_meas, np.squeeze(amplitude_measure[:,:,2,:]), clim=(min_val,max_val))"
   ]
  },
  {
   "cell_type": "code",
   "execution_count": null,
   "metadata": {},
   "outputs": [],
   "source": [
    "min_val = np.min(diff_obj[:])\n",
    "max_val = np.max(diff_obj[:])\n",
    "print(\"min:\", min_val)\n",
    "print(\"max:\", max_val)\n",
    "show3DStack(diff_obj, clim=(min_val,max_val))"
   ]
  }
 ],
 "metadata": {
  "kernelspec": {
   "display_name": "Python 3",
   "language": "python",
   "name": "python3"
  },
  "language_info": {
   "codemirror_mode": {
    "name": "ipython",
    "version": 3
   },
   "file_extension": ".py",
   "mimetype": "text/x-python",
   "name": "python",
   "nbconvert_exporter": "python",
   "pygments_lexer": "ipython3",
   "version": "3.6.4"
  }
 },
 "nbformat": 4,
 "nbformat_minor": 2
}
