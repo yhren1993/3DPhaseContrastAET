{
 "cells": [
  {
   "cell_type": "code",
   "execution_count": null,
   "metadata": {
    "collapsed": true
   },
   "outputs": [],
   "source": [
    "%reload_ext autoreload\n",
    "%autoreload 2\n",
    "%matplotlib notebook\n",
    "import arrayfire as af\n",
    "import numpy as np\n",
    "import sys\n",
    "#For Lahvahn\n",
    "sys.path.append('D:\\\\David\\\\libwallerlab\\\\python\\\\libwallerlab\\\\tomography_gpu')\n",
    "#For YONGHUAN_PC\n",
    "sys.path.append('L:\\\\David\\\\libwallerlab\\\\python\\\\libwallerlab\\\\tomography_gpu')\n",
    "#For COSMOS\n",
    "sys.path.append('/home/david/lahvahn_david/libwallerlab/python/libwallerlab/tomography_gpu/')\n",
    "#For others\n",
    "sys.path.append('T:\\\\David\\\\libwallerlab\\\\python\\\\libwallerlab\\\\tomography_gpu')\n",
    "from opticaltomography.regularizers import Regularizer\n",
    "from opticaltomography.opticsutil import compare3DStack\n",
    "from opticaltomography.opticsalg import AlgorithmConfigs"
   ]
  },
  {
   "cell_type": "markdown",
   "metadata": {},
   "source": [
    "### Configs to Params"
   ]
  },
  {
   "cell_type": "code",
   "execution_count": null,
   "metadata": {},
   "outputs": [],
   "source": [
    "configs = AlgorithmConfigs()\n",
    "#total variation regularization\n",
    "configs.total_variation     = False\n",
    "configs.reg_tv              = 2.0 #lambda\n",
    "configs.max_iter_tv         = 20\n",
    "configs.total_variation_gpu = True\n",
    "\n",
    "#lasso\n",
    "configs.lasso               = False\n",
    "configs.reg_lasso           = 6.0\n",
    "\n",
    "#positivity constraint\n",
    "configs.positivity_real     = (True, \"larger\")\n",
    "configs.positivity_imag     = (True, \"Lesser\")\n",
    "configs.pure_real           = True\n",
    "configs.pure_imag           = True\n",
    "reg_obj = Regularizer(configs)"
   ]
  },
  {
   "cell_type": "markdown",
   "metadata": {},
   "source": [
    "### 3DTV"
   ]
  },
  {
   "cell_type": "code",
   "execution_count": null,
   "metadata": {
    "scrolled": true
   },
   "outputs": [],
   "source": [
    "#positivity_real, positivity_imag (GPU)\n",
    "params = dict(total_variation = True, total_variation_maxitr = 20, total_variation_parameter = 0.1, total_variation_gpu = True)\n",
    "params[\"positivity_real\"] = True\n",
    "params[\"positivity_imag\"] = True\n",
    "reg_obj = Regularizer(**params)\n",
    "x = af.to_array(np.random.randn(1000,1000,80)+1.0j*np.random.randn(1000,1000,80))\n",
    "x_new = reg_obj.applyRegularizer(x)\n",
    "x_real = np.array(af.real(x_new))\n",
    "x_imag = np.array(af.imag(x_new))\n",
    "assert (np.sum(x_real[x_real<0]) - 0) < 1e-10\n",
    "assert (np.sum(x_imag[x_imag<0]) - 0) < 1e-10"
   ]
  },
  {
   "cell_type": "code",
   "execution_count": null,
   "metadata": {},
   "outputs": [],
   "source": [
    "x.dtype"
   ]
  },
  {
   "cell_type": "code",
   "execution_count": null,
   "metadata": {},
   "outputs": [],
   "source": [
    "#negativity_real, negativity_imag (GPU)\n",
    "params = dict(total_variation = True, total_variation_maxitr = 20, total_variation_parameter = 0.1, total_variation_gpu = True)\n",
    "params[\"negativity_real\"] = True\n",
    "params[\"negativity_imag\"] = True\n",
    "reg_obj = Regularizer(**params)\n",
    "x = af.to_array(np.random.randn(50,50,50)+1.0j*np.random.randn(50,50,50))\n",
    "x_new = reg_obj.applyRegularizer(x)\n",
    "x_real = np.array(af.real(x_new))\n",
    "x_imag = np.array(af.imag(x_new))\n",
    "assert (np.sum(x_real[x_real>0]) - 0) < 1e-10\n",
    "assert (np.sum(x_imag[x_imag>0]) - 0) < 1e-10"
   ]
  },
  {
   "cell_type": "code",
   "execution_count": null,
   "metadata": {},
   "outputs": [],
   "source": [
    "#positivity_real, positivity_imag (CPU)\n",
    "params = dict(total_variation = True, total_variation_maxitr = 20, total_variation_parameter = 0.1)\n",
    "params[\"positivity_real\"] = True\n",
    "params[\"positivity_imag\"] = True\n",
    "reg_obj = Regularizer(**params)\n",
    "x = np.random.randn(50,50,50)+1.0j*np.random.randn(50,50,50)\n",
    "x_new = reg_obj.applyRegularizer(x)\n",
    "x_real = x_new.real\n",
    "x_imag = x_new.imag\n",
    "assert (np.sum(x_real[x_real<0]) - 0) < 1e-10\n",
    "assert (np.sum(x_imag[x_imag<0]) - 0) < 1e-10"
   ]
  },
  {
   "cell_type": "code",
   "execution_count": null,
   "metadata": {},
   "outputs": [],
   "source": [
    "#negativity_real, negativity_imag (CPU)\n",
    "params = dict(total_variation = True, total_variation_maxitr = 20, total_variation_parameter = 0.1)\n",
    "params[\"negativity_real\"] = True\n",
    "params[\"negativity_imag\"] = True\n",
    "reg_obj = Regularizer(**params)\n",
    "x = np.random.randn(50,50,50)+1.0j*np.random.randn(50,50,50)\n",
    "x_new = reg_obj.applyRegularizer(x)\n",
    "x_real = x_new.real\n",
    "x_imag = x_new.imag\n",
    "assert (np.sum(x_real[x_real>0]) - 0) < 1e-10\n",
    "assert (np.sum(x_imag[x_imag>0]) - 0) < 1e-10"
   ]
  },
  {
   "cell_type": "markdown",
   "metadata": {},
   "source": [
    "### Positivity"
   ]
  },
  {
   "cell_type": "code",
   "execution_count": null,
   "metadata": {},
   "outputs": [],
   "source": [
    "params = dict(positivity_real = True, positivity_imag = True)\n",
    "reg_obj = Regularizer(**params)\n",
    "x = af.to_array(np.random.randn(50,50,50) + 1j*np.random.randn(50,50,50))\n",
    "x_new = reg_obj.applyRegularizer(x)\n",
    "x_new = np.array(x_new).ravel()\n",
    "x_real = x_new.real\n",
    "x_imag = x_new.imag\n",
    "assert (np.sum(x_real[x_real<0]) - 0) < 1e-10\n",
    "assert (np.sum(x_imag[x_imag<0]) - 0) < 1e-10"
   ]
  },
  {
   "cell_type": "markdown",
   "metadata": {},
   "source": [
    "### Negativity"
   ]
  },
  {
   "cell_type": "code",
   "execution_count": null,
   "metadata": {},
   "outputs": [],
   "source": [
    "params = dict(negativity_real = True, negativity_imag = True)\n",
    "reg_obj = Regularizer(**params)\n",
    "x = af.to_array(np.random.randn(50,50,50) + 1j*np.random.randn(50,50,50))\n",
    "x_new = reg_obj.applyRegularizer(x)\n",
    "x_new = np.array(x_new).ravel()\n",
    "x_real = x_new.real\n",
    "x_imag = x_new.imag\n",
    "assert (np.sum(x_real[x_real>0]) - 0) < 1e-10\n",
    "assert (np.sum(x_imag[x_imag>0]) - 0) < 1e-10"
   ]
  },
  {
   "cell_type": "markdown",
   "metadata": {},
   "source": [
    "### Purely real"
   ]
  },
  {
   "cell_type": "code",
   "execution_count": null,
   "metadata": {},
   "outputs": [],
   "source": [
    "params = dict(pure_real = True)\n",
    "reg_obj = Regularizer(**params)\n",
    "x = af.to_array(np.random.randn(50,50,50) + 1j*np.random.randn(50,50,50))\n",
    "x_new = reg_obj.applyRegularizer(x)\n",
    "x_new = np.array(x_new).ravel()\n",
    "x_imag = x_new.imag\n",
    "assert (np.sum(x_imag) - 0) < 1e-10"
   ]
  },
  {
   "cell_type": "markdown",
   "metadata": {},
   "source": [
    "### Purely imaginary"
   ]
  },
  {
   "cell_type": "code",
   "execution_count": null,
   "metadata": {},
   "outputs": [],
   "source": [
    "params = dict(pure_imag = True)\n",
    "reg_obj = Regularizer(**params)\n",
    "x = af.to_array(np.random.randn(50,50,50) + 1j*np.random.randn(50,50,50))\n",
    "x_new = reg_obj.applyRegularizer(x)\n",
    "x_new = np.array(x_new).ravel()\n",
    "x_real = x_new.real\n",
    "assert (np.sum(x_real) - 0) < 1e-10"
   ]
  },
  {
   "cell_type": "markdown",
   "metadata": {},
   "source": [
    "### LASSO"
   ]
  },
  {
   "cell_type": "code",
   "execution_count": null,
   "metadata": {},
   "outputs": [],
   "source": [
    "params = dict(lasso = True, lasso_parameter = 0.5)\n",
    "reg_obj = Regularizer(**params)\n",
    "x_np =np.random.randn(50,50,50) + 1j*np.random.randn(50,50,50)\n",
    "x_af = af.to_array(x_np)\n",
    "x_new_af = np.array(reg_obj.applyRegularizer(x_af)).ravel()\n",
    "x_new_np = reg_obj.applyRegularizer(x_np).ravel()\n",
    "assert (np.sum(np.abs(x_new_af-x_new_np)) - 0) < 1e-10"
   ]
  },
  {
   "cell_type": "code",
   "execution_count": null,
   "metadata": {
    "collapsed": true
   },
   "outputs": [],
   "source": [
    "#Empty\n",
    "params = {}\n",
    "reg_obj = Regularizer(**params)\n",
    "x = af.to_array(np.random.randn(50,50,50) + 1j*np.random.randn(50,50,50))\n",
    "x_new = reg_obj.applyRegularizer(x)\n",
    "assert x_new == x"
   ]
  }
 ],
 "metadata": {
  "kernelspec": {
   "display_name": "Python 3",
   "language": "python",
   "name": "python3"
  },
  "language_info": {
   "codemirror_mode": {
    "name": "ipython",
    "version": 3
   },
   "file_extension": ".py",
   "mimetype": "text/x-python",
   "name": "python",
   "nbconvert_exporter": "python",
   "pygments_lexer": "ipython3",
   "version": "3.6.4"
  }
 },
 "nbformat": 4,
 "nbformat_minor": 2
}
