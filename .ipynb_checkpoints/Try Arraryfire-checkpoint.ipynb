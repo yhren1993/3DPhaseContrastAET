{
 "cells": [
  {
   "cell_type": "code",
   "execution_count": 12,
   "metadata": {},
   "outputs": [],
   "source": [
    "import arrayfire as af\n",
    "import numpy as np\n",
    "import contexttimer\n",
    "import labutil.opticstools as utilities\n"
   ]
  },
  {
   "cell_type": "code",
   "execution_count": 13,
   "metadata": {
    "collapsed": true
   },
   "outputs": [],
   "source": [
    "af.set_backend(\"cuda\")"
   ]
  },
  {
   "cell_type": "code",
   "execution_count": 14,
   "metadata": {},
   "outputs": [
    {
     "name": "stdout",
     "output_type": "stream",
     "text": [
      "{'alloc': {'buffers': 4, 'bytes': 24082432}, 'lock': {'buffers': 3, 'bytes': 16081920}}\n"
     ]
    }
   ],
   "source": [
    "xn = 100\n",
    "x_af = af.randn(xn, xn, xn,dtype = af.Dtype.c32) * 1\n",
    "x_af2 = x_af.copy()\n",
    "print(af.device_mem_info())"
   ]
  },
  {
   "cell_type": "code",
   "execution_count": 4,
   "metadata": {
    "scrolled": true
   },
   "outputs": [
    {
     "name": "stdout",
     "output_type": "stream",
     "text": [
      "{'alloc': {'buffers': 4, 'bytes': 24002560}, 'lock': {'buffers': 3, 'bytes': 24001536}}\n"
     ]
    }
   ],
   "source": [
    "x_af1 = af.fft2(x_af)\n",
    "print(af.device_mem_info())"
   ]
  },
  {
   "cell_type": "code",
   "execution_count": 5,
   "metadata": {},
   "outputs": [
    {
     "name": "stdout",
     "output_type": "stream",
     "text": [
      "{'alloc': {'buffers': 5, 'bytes': 24083456}, 'lock': {'buffers': 3, 'bytes': 16081920}}\n"
     ]
    }
   ],
   "source": [
    "x_af2 = af.fft2(x_af[:,:,0])\n",
    "print(af.device_mem_info())"
   ]
  },
  {
   "cell_type": "code",
   "execution_count": 6,
   "metadata": {},
   "outputs": [
    {
     "name": "stdout",
     "output_type": "stream",
     "text": [
      "0.0\n"
     ]
    }
   ],
   "source": [
    "print(af.max(af.abs((x_af2[:] - x_af1[:,:,0]))))"
   ]
  },
  {
   "cell_type": "code",
   "execution_count": 7,
   "metadata": {},
   "outputs": [
    {
     "name": "stdout",
     "output_type": "stream",
     "text": [
      "{'alloc': {'buffers': 6, 'bytes': 24124416}, 'lock': {'buffers': 3, 'bytes': 16081920}}\n",
      "{'alloc': {'buffers': 1, 'bytes': 8000512}, 'lock': {'buffers': 1, 'bytes': 8000512}}\n"
     ]
    }
   ],
   "source": [
    "print(af.device_mem_info())\n",
    "x_af = None\n",
    "x_af2_fft = None\n",
    "x_af2 = None\n",
    "ref = None\n",
    "af.device_gc()\n",
    "print(af.device_mem_info())"
   ]
  },
  {
   "cell_type": "code",
   "execution_count": 8,
   "metadata": {},
   "outputs": [
    {
     "name": "stdout",
     "output_type": "stream",
     "text": [
      "False\n"
     ]
    }
   ],
   "source": [
    "print(type(x_af).__module__ == af.array.__name__)"
   ]
  },
  {
   "cell_type": "code",
   "execution_count": 9,
   "metadata": {},
   "outputs": [
    {
     "ename": "TypeError",
     "evalue": "'NoneType' object is not subscriptable",
     "output_type": "error",
     "traceback": [
      "\u001b[1;31m---------------------------------------------------------------------------\u001b[0m",
      "\u001b[1;31mTypeError\u001b[0m                                 Traceback (most recent call last)",
      "\u001b[1;32m<ipython-input-9-fec14ee1c971>\u001b[0m in \u001b[0;36m<module>\u001b[1;34m()\u001b[0m\n\u001b[1;32m----> 1\u001b[1;33m \u001b[0mprint\u001b[0m\u001b[1;33m(\u001b[0m\u001b[0mnp\u001b[0m\u001b[1;33m.\u001b[0m\u001b[0marray\u001b[0m\u001b[1;33m(\u001b[0m\u001b[0mx_af\u001b[0m\u001b[1;33m[\u001b[0m\u001b[1;36m0\u001b[0m\u001b[1;33m,\u001b[0m\u001b[1;36m0\u001b[0m\u001b[1;33m,\u001b[0m\u001b[1;36m0\u001b[0m\u001b[1;33m]\u001b[0m\u001b[1;33m)\u001b[0m\u001b[1;33m)\u001b[0m\u001b[1;33m\u001b[0m\u001b[0m\n\u001b[0m",
      "\u001b[1;31mTypeError\u001b[0m: 'NoneType' object is not subscriptable"
     ]
    }
   ],
   "source": [
    "print(np.array(x_af[0,0,0]))"
   ]
  },
  {
   "cell_type": "code",
   "execution_count": 35,
   "metadata": {},
   "outputs": [
    {
     "ename": "AttributeError",
     "evalue": "module 'arrayfire' has no attribute 'zeros'",
     "output_type": "error",
     "traceback": [
      "\u001b[1;31m---------------------------------------------------------------------------\u001b[0m",
      "\u001b[1;31mAttributeError\u001b[0m                            Traceback (most recent call last)",
      "\u001b[1;32m<ipython-input-35-7c32a5846359>\u001b[0m in \u001b[0;36m<module>\u001b[1;34m()\u001b[0m\n\u001b[1;32m----> 1\u001b[1;33m \u001b[0mx_af1\u001b[0m \u001b[1;33m=\u001b[0m \u001b[0maf\u001b[0m\u001b[1;33m.\u001b[0m\u001b[0mzeros\u001b[0m\u001b[1;33m(\u001b[0m\u001b[0mxn\u001b[0m\u001b[1;33m,\u001b[0m \u001b[0mxn\u001b[0m\u001b[1;33m,\u001b[0m\u001b[0mdtype\u001b[0m \u001b[1;33m=\u001b[0m \u001b[0maf\u001b[0m\u001b[1;33m.\u001b[0m\u001b[0mDtype\u001b[0m\u001b[1;33m.\u001b[0m\u001b[0mc32\u001b[0m\u001b[1;33m)\u001b[0m \u001b[1;33m*\u001b[0m \u001b[1;36m1\u001b[0m\u001b[1;33m\u001b[0m\u001b[0m\n\u001b[0m\u001b[0;32m      2\u001b[0m \u001b[0mx_af\u001b[0m \u001b[1;33m=\u001b[0m \u001b[0mnp\u001b[0m\u001b[1;33m.\u001b[0m\u001b[0mrandom\u001b[0m\u001b[1;33m.\u001b[0m\u001b[0mrandn\u001b[0m\u001b[1;33m(\u001b[0m\u001b[0mxn\u001b[0m\u001b[1;33m,\u001b[0m \u001b[0mxn\u001b[0m\u001b[1;33m,\u001b[0m \u001b[0mxn\u001b[0m\u001b[1;33m)\u001b[0m\u001b[1;33m.\u001b[0m\u001b[0mastype\u001b[0m\u001b[1;33m(\u001b[0m\u001b[0mnp\u001b[0m\u001b[1;33m.\u001b[0m\u001b[0mcomplex64\u001b[0m\u001b[1;33m)\u001b[0m\u001b[1;33m\u001b[0m\u001b[0m\n\u001b[0;32m      3\u001b[0m \u001b[0mx_af\u001b[0m \u001b[1;33m=\u001b[0m \u001b[0maf\u001b[0m\u001b[1;33m.\u001b[0m\u001b[0mto_array\u001b[0m\u001b[1;33m(\u001b[0m\u001b[0mx_af\u001b[0m\u001b[1;33m)\u001b[0m\u001b[1;33m\u001b[0m\u001b[0m\n\u001b[0;32m      4\u001b[0m \u001b[0mx_af\u001b[0m\u001b[1;33m[\u001b[0m\u001b[1;36m0\u001b[0m\u001b[1;33m,\u001b[0m\u001b[1;33m:\u001b[0m\u001b[1;33m,\u001b[0m\u001b[1;33m:\u001b[0m\u001b[1;33m]\u001b[0m \u001b[1;33m=\u001b[0m \u001b[0mx_af1\u001b[0m\u001b[1;33m\u001b[0m\u001b[0m\n",
      "\u001b[1;31mAttributeError\u001b[0m: module 'arrayfire' has no attribute 'zeros'"
     ]
    }
   ],
   "source": [
    "x_af1 = af.zeros(xn, xn,dtype = af.Dtype.c32) * 1\n",
    "x_af = np.random.randn(xn, xn, xn).astype(np.complex64)\n",
    "x_af = af.to_array(x_af)\n",
    "x_af[0,:,:] = x_af1"
   ]
  },
  {
   "cell_type": "code",
   "execution_count": 51,
   "metadata": {
    "scrolled": true
   },
   "outputs": [
    {
     "data": {
      "text/plain": [
       "array([[-1.04914606+0.j],\n",
       "       [ 0.84084338+0.j],\n",
       "       [ 0.20433113+0.j]], dtype=complex64)"
      ]
     },
     "execution_count": 51,
     "metadata": {},
     "output_type": "execute_result"
    }
   ],
   "source": [
    "a = [x_af[0,0,0], x_af[0,0,0]]\n",
    "np.array([np.array(x_af[0,0,0]), np.array(x_af[0,0,1]), np.array(x_af[0,0,2]), np.array(x_af[0,0,1])])"
   ]
  },
  {
   "cell_type": "code",
   "execution_count": 71,
   "metadata": {},
   "outputs": [],
   "source": [
    "import pyfftw\n",
    "xn = 64\n",
    "full_shape = (xn,xn)\n",
    "array = pyfftw.zeros_aligned(full_shape, dtype='complex128')\n",
    "_fft =  pyfftw.FFTW(array, array, axes=(0,1), direction='FFTW_FORWARD', flags=('FFTW_MEASURE', ))"
   ]
  },
  {
   "cell_type": "code",
   "execution_count": 72,
   "metadata": {},
   "outputs": [],
   "source": [
    "x_af = af.randn(xn, xn, dtype = af.Dtype.c32)"
   ]
  },
  {
   "cell_type": "code",
   "execution_count": 95,
   "metadata": {},
   "outputs": [
    {
     "name": "stdout",
     "output_type": "stream",
     "text": [
      "0.00019728677875718859\n",
      "6.916963047842728e-05\n",
      "True\n"
     ]
    }
   ],
   "source": [
    "with contexttimer.Timer() as timer:\n",
    "    af.fft2_inplace(x_af)\n",
    "    af_time = timer.elapsed\n",
    "    print(af_time)\n",
    "\n",
    "array[:] = np.random.randn(xn, xn)\n",
    "with contexttimer.Timer() as timer:\n",
    "    _fft()\n",
    "    fftw_time = timer.elapsed\n",
    "    print(fftw_time)\n",
    "    \n",
    "print(af_time > fftw_time)"
   ]
  }
 ],
 "metadata": {
  "kernelspec": {
   "display_name": "Python 3",
   "language": "python",
   "name": "python3"
  },
  "language_info": {
   "codemirror_mode": {
    "name": "ipython",
    "version": 3
   },
   "file_extension": ".py",
   "mimetype": "text/x-python",
   "name": "python",
   "nbconvert_exporter": "python",
   "pygments_lexer": "ipython3",
   "version": "3.6.1"
  }
 },
 "nbformat": 4,
 "nbformat_minor": 2
}
