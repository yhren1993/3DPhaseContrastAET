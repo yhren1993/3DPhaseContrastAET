{
 "cells": [
  {
   "cell_type": "markdown",
   "metadata": {},
   "source": [
    "### Apply Pupil to 3D TEM to generate ground truth"
   ]
  },
  {
   "cell_type": "code",
   "execution_count": null,
   "metadata": {},
   "outputs": [],
   "source": [
    "%matplotlib notebook\n",
    "import numpy as np\n",
    "import scipy.io as sio\n",
    "import os\n",
    "import sys\n",
    "#For Lahvahn\n",
    "sys.path.append('D:\\\\David\\\\libwallerlab\\\\python\\\\libwallerlab\\\\tomography_gpu')\n",
    "#For YONGHUAN_PC\n",
    "sys.path.append('L:\\\\David\\\\libwallerlab\\\\python\\\\libwallerlab\\\\tomography_gpu')\n",
    "#For COSMOS\n",
    "sys.path.append('/home/david/lahvahn_david/libwallerlab/python/libwallerlab/tomography_gpu/')\n",
    "#For others\n",
    "sys.path.append('T:\\\\David\\\\libwallerlab\\\\python\\\\libwallerlab\\\\tomography_gpu')\n",
    "from opticaltomography.opticsutil import ImageRotation, compare3DStack, show3DStack"
   ]
  },
  {
   "cell_type": "code",
   "execution_count": null,
   "metadata": {},
   "outputs": [],
   "source": [
    "#Load dataset\n",
    "indir = \"D:\\DAVID\\Cal\\Fall 2017\\Research\\TEM\\data\\measurement\\\\\"\n",
    "fn = \"TEM_simulation_potential_64.mat\"\n",
    "measure = sio.loadmat(indir + fn)"
   ]
  },
  {
   "cell_type": "code",
   "execution_count": null,
   "metadata": {},
   "outputs": [],
   "source": [
    "potStack_gt = measure[\"potStack\"]\n",
    "xn = potStack_gt.shape[0]\n",
    "dx = np.asscalar(measure[\"pixelSize\"])\n",
    "lamb = np.asscalar(measure[\"lambda\"])\n",
    "NA = lamb"
   ]
  },
  {
   "cell_type": "code",
   "execution_count": null,
   "metadata": {},
   "outputs": [],
   "source": [
    "# Generate 3D pupil\n",
    "dkx = 1./(xn*dx)\n",
    "kx = np.linspace(-xn//2, xn//2, xn, endpoint=False) * dkx\n",
    "ky = kx\n",
    "kz = kx\n",
    "[kxx, kyy, kzz] = np.meshgrid(kx**2,ky**2, kz**2)\n",
    "r = np.sqrt(kxx + kyy + kzz)\n",
    "P_3D = (r < NA/lamb).astype(np.complex128)"
   ]
  },
  {
   "cell_type": "code",
   "execution_count": null,
   "metadata": {},
   "outputs": [],
   "source": [
    "potStack_gt = np.fft.ifftn(np.fft.fftshift(np.fft.fftshift(np.fft.fftn(potStack_gt)) * P_3D))"
   ]
  },
  {
   "cell_type": "code",
   "execution_count": null,
   "metadata": {},
   "outputs": [],
   "source": [
    "figure\n",
    "imshow(real(potStack_gt[14,]))\n",
    "colorbar()"
   ]
  },
  {
   "cell_type": "code",
   "execution_count": null,
   "metadata": {},
   "outputs": [],
   "source": [
    "measure[\"potStack_gt\"] = real(potStack_gt)\n",
    "sio.savemat(indir + fn, measure)"
   ]
  },
  {
   "cell_type": "markdown",
   "metadata": {},
   "source": [
    "### Test"
   ]
  },
  {
   "cell_type": "code",
   "execution_count": null,
   "metadata": {},
   "outputs": [],
   "source": []
  },
  {
   "cell_type": "markdown",
   "metadata": {},
   "source": [
    "### Load Mat file and save image stack"
   ]
  },
  {
   "cell_type": "code",
   "execution_count": null,
   "metadata": {},
   "outputs": [],
   "source": [
    "import numpy as np\n",
    "import scipy.io as sio\n",
    "import labutil.displaytools as display"
   ]
  },
  {
   "cell_type": "code",
   "execution_count": null,
   "metadata": {},
   "outputs": [],
   "source": [
    "fn = \"D:\\DAVID\\Cal\\Research\\TEM\\Meetings\\\\20171027\\\\rec_stack\"\n",
    "img_stack = sio.loadmat(fn + \".mat\")\n",
    "obj_final = np.real(img_stack[\"obj\"])\n",
    "obj_final[obj_final < 0] = 0\n",
    "\n",
    "obj_init = np.real(img_stack[\"obj\"])\n",
    "obj_init[obj_init < 0] = 0\n",
    "\n",
    "# min_p = np.min([np.min(obj_final[:]), np.min(obj_init[:])])\n",
    "# max_p = np.max([np.max(obj_final[:]), np.max(obj_init[:])])\n",
    "\n",
    "#Ground truth\n",
    "gt_fn = \"H:\\David\\TEM\\data\\measurement\\TEM_simulation_potential_64_with_full_measurement_less_defocus\"\n",
    "gt_img_stack = sio.loadmat(gt_fn + \".mat\")\n",
    "\n",
    "potStack_gt = np.real(gt_img_stack[\"potStack_gt\"])\n",
    "potStack_gt[potStack_gt < 0] = 0\n",
    "\n",
    "min_p = np.min([np.min(obj_final[:]), np.min(obj_init[:])])\n",
    "max_p = np.max([np.max(obj_final[:]), np.max(obj_init[:])])\n",
    "# min_p = np.min([np.min(potStack_gt[:]), np.min(obj_final[:]), np.min(obj_init[:])])\n",
    "# max_p = np.max([np.max(potStack_gt[:]), np.max(obj_final[:]), np.max(obj_init[:])])"
   ]
  },
  {
   "cell_type": "code",
   "execution_count": null,
   "metadata": {},
   "outputs": [],
   "source": [
    "outfn = \"D:\\DAVID\\Cal\\Fall 2017\\Research\\TEM\\Meetings\\\\20171027\\\\rec_stack\"\n",
    "display.saveImageStack(outfn +\".tiff\", obj_final, colormap = 'jet', clim = (min_p, max_p))\n",
    "\n",
    "# outfn = \"D:\\DAVID\\Cal\\Fall 2017\\Research\\TEM\\Meetings\\\\20171027\\measurement_stack_fix_rotate\"\n",
    "# display.saveImageStack(outfn +\".tiff\", obj_init, colormap = 'jet', clim = (min_p, max_p))\n",
    "\n",
    "# outfn = \"D:\\DAVID\\Cal\\Fall 2017\\Research\\TEM\\Meetings\\\\20171027\\exp103_sim_atoms_64_less_defocus_mean_gradient_FISTA_gt\"\n",
    "# display.saveImageStack(outfn +\".tiff\", potStack_gt, colormap = 'jet', clim = (min_p, max_p))"
   ]
  },
  {
   "cell_type": "code",
   "execution_count": null,
   "metadata": {},
   "outputs": [],
   "source": [
    "import numpy as np\n",
    "import arrayfire as af\n",
    "import contexttimer"
   ]
  },
  {
   "cell_type": "code",
   "execution_count": null,
   "metadata": {},
   "outputs": [],
   "source": [
    "p = np.zeros((10,10,10,10))\n",
    "print(p.shape)"
   ]
  },
  {
   "cell_type": "code",
   "execution_count": null,
   "metadata": {},
   "outputs": [],
   "source": [
    "a = \"alll\"\n",
    "print(a == \"alll\")"
   ]
  },
  {
   "cell_type": "code",
   "execution_count": null,
   "metadata": {},
   "outputs": [],
   "source": [
    "\n",
    "data1 = sio.loadmat(outdir+\"../reconstruction/exp651_sim_aet2018_480_FISTA_batch1_positivity_and_real_gpu_noise23.mat\")\n",
    "data2 = sio.load\n",
    "pot_stack = data[\"obj_final\"]\n",
    "pot_stack_gt = TEM_misc.apply3DPupil(pot_stack, 0.5, 0.05, 0.0195\n",
    "\n",
    "max_val = np.max(np.real(pot_stack.ravel()))\n",
    "compare3DStack(np.real(pot_stack), np.real(pot_stack_gt), axis = 2, cmap = \"gray\", clim = (0, max_val))"
   ]
  },
  {
   "cell_type": "code",
   "execution_count": null,
   "metadata": {},
   "outputs": [],
   "source": [
    "# Specify datapath\n",
    "data_path  = \"%s/%s\"   % (os.getcwd(), \"../data/\")\n",
    "outdir     = \"%s%s\" % (data_path, \"measurement/\")\n",
    "data1 = sio.loadmat(outdir+\"../reconstruction/exp651_sim_aet2018_480_FISTA_batch1_positivity_and_real_gpu_noise23.mat\")\n",
    "data2 = sio.loadmat(outdir+\"../reconstruction/obj_linear.mat\")\n",
    "obj_final = data1[\"obj_final\"]\n",
    "obj_linear = data2[\"obj_linear\"]"
   ]
  },
  {
   "cell_type": "code",
   "execution_count": null,
   "metadata": {},
   "outputs": [],
   "source": [
    "max_val = np.max([0, np.max(np.real(obj_linear.ravel()))])\n",
    "compare3DStack(np.real(obj_linear), np.real(obj_final[80:400,80:400,80:400]), axis = , cmap = \"gray\", clim = (0, max_val))"
   ]
  }
 ],
 "metadata": {
  "kernelspec": {
   "display_name": "Python 3",
   "language": "python",
   "name": "python3"
  },
  "language_info": {
   "codemirror_mode": {
    "name": "ipython",
    "version": 3
   },
   "file_extension": ".py",
   "mimetype": "text/x-python",
   "name": "python",
   "nbconvert_exporter": "python",
   "pygments_lexer": "ipython3",
   "version": "3.6.4"
  }
 },
 "nbformat": 4,
 "nbformat_minor": 2
}
