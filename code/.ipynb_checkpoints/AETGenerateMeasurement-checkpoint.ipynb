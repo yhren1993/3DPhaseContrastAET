{
 "cells": [
  {
   "cell_type": "markdown",
   "metadata": {},
   "source": [
    "# TEM Generate Measurements needed for reconstruction\n",
    "Author: David Ren (david.ren@berkeley.edu)\n",
    "\n",
    "7/16/2018"
   ]
  },
  {
   "cell_type": "code",
   "execution_count": null,
   "metadata": {
    "scrolled": true
   },
   "outputs": [],
   "source": [
    "%load_ext autoreload\n",
    "%autoreload 2\n",
    "%matplotlib notebook\n",
    "import numpy as np\n",
    "import matplotlib.pyplot as plt\n",
    "import scipy.io as sio\n",
    "import os\n",
    "import contexttimer\n",
    "import TEM_misc\n",
    "import sys\n",
    "import h5py\n",
    "sys.path.append(\"%s/%s\"   % (os.getcwd(), \"tomography_gpu/\"))\n",
    "from opticaltomography.opticsutil import compare3DStack, show3DStack\n",
    "from opticaltomography.opticsalg import PhaseObject3D, TomographySolver, AlgorithmConfigs"
   ]
  },
  {
   "cell_type": "markdown",
   "metadata": {},
   "source": [
    "### Specify Parameters"
   ]
  },
  {
   "cell_type": "markdown",
   "metadata": {},
   "source": [
    "#### Datapath"
   ]
  },
  {
   "cell_type": "code",
   "execution_count": null,
   "metadata": {},
   "outputs": [],
   "source": [
    "# Specify datapath\n",
    "data_path  = \"%s/%s\"   % (os.getcwd(), \"../data/\")\n",
    "outdir      = \"%s/%s\"   % (data_path, \"measurement/\")\n",
    "\n",
    "# Specify filename\n",
    "fn = \"TEM_simulation_480_SiO2\" + \"_py\"\n",
    "flag_save = False\n",
    "\n",
    "# Load potentials\n",
    "fn_load = \"TEM_simulation_480_SiO2\""
   ]
  },
  {
   "cell_type": "markdown",
   "metadata": {},
   "source": [
    "#### Dataset parameters\n",
    "Everything is measured in Angstroms"
   ]
  },
  {
   "cell_type": "code",
   "execution_count": null,
   "metadata": {},
   "outputs": [],
   "source": [
    "#Same setting as the paper\n",
    "slice_binning_factor = 1\n",
    "flag_plot = True\n",
    "flag_rotation_pad = True\n",
    "flag_angle_defocus_override = False\n",
    "\n",
    "flag_crop_fov = True\n",
    "pad_size = (60, 60)\n",
    "if flag_crop_fov:\n",
    "    pass\n",
    "else:\n",
    "    pad_size = (0, 0)"
   ]
  },
  {
   "cell_type": "markdown",
   "metadata": {},
   "source": [
    "### Load Data"
   ]
  },
  {
   "cell_type": "code",
   "execution_count": null,
   "metadata": {},
   "outputs": [],
   "source": [
    "print(\"Loading data...\")\n",
    "try:\n",
    "    print(\"Using sio\")\n",
    "    data = sio.loadmat(outdir+fn_load+\".mat\")\n",
    "except:\n",
    "    data_file = h5py.File(outdir+fn_load+\".mat\")\n",
    "    data = {}\n",
    "    for k, v in data_file.items():\n",
    "        data[k] = np.array(v)\n",
    "    data[\"pot_stack\"] = data[\"pot_stack\"].transpose(2,1,0)\n",
    "dz = np.asscalar(data[\"dz\"])\n",
    "na = np.asscalar(data[\"na\"])\n",
    "# na = 1\n",
    "sigma = np.asscalar(data[\"sigma\"])\n",
    "wavelength = np.asscalar(data[\"wavelength\"])\n",
    "pixel_size = np.asscalar(data[\"pixel_size\"])\n",
    "tilt_angles = data[\"tilt_angles\"].ravel()\n",
    "defocus_stack = data[\"defocus_stack\"].ravel()\n",
    "print(\"Done loading data...\")\n",
    "print(data.keys())"
   ]
  },
  {
   "cell_type": "markdown",
   "metadata": {},
   "source": [
    "### Override tile angles and defocus stack"
   ]
  },
  {
   "cell_type": "code",
   "execution_count": null,
   "metadata": {},
   "outputs": [],
   "source": [
    "if flag_angle_defocus_override:\n",
    "    tilt_angles = np.arange(-90,90)\n",
    "    defocus_stack = np.arange(200,1100,100)\n",
    "    print(tilt_angles)\n",
    "    print(defocus_stack)    "
   ]
  },
  {
   "cell_type": "markdown",
   "metadata": {},
   "source": [
    "### Generate potentials\n",
    "This part generates the coordinates of the atoms if necessary\n",
    "Only works for a single atom"
   ]
  },
  {
   "cell_type": "code",
   "execution_count": null,
   "metadata": {
    "scrolled": false
   },
   "outputs": [],
   "source": [
    "pot_stack = data[\"pot_stack\"]\n",
    "\n",
    "if flag_plot:\n",
    "    plt.figure(figsize=(5,4))\n",
    "    plt.imshow(np.sum(pot_stack,axis = 2))\n",
    "    plt.colorbar()"
   ]
  },
  {
   "cell_type": "markdown",
   "metadata": {},
   "source": [
    "### Generate measurements"
   ]
  },
  {
   "cell_type": "markdown",
   "metadata": {},
   "source": [
    "#### Generate Low pass filtered version (Ground truth)"
   ]
  },
  {
   "cell_type": "code",
   "execution_count": null,
   "metadata": {
    "scrolled": true
   },
   "outputs": [],
   "source": [
    "if na < 1:\n",
    "    pot_stack_gt = TEM_misc.apply3DPupil(pot_stack, pixel_size, na, wavelength)\n",
    "    if flag_plot:\n",
    "        plt.figure(figsize=(5,4))\n",
    "        plt.imshow(np.sum(pot_stack_gt,axis = 2))\n",
    "        plt.colorbar()"
   ]
  },
  {
   "cell_type": "markdown",
   "metadata": {},
   "source": [
    "#### Apply forward model"
   ]
  },
  {
   "cell_type": "code",
   "execution_count": null,
   "metadata": {
    "scrolled": true
   },
   "outputs": [],
   "source": [
    "number_angles = tilt_angles.size\n",
    "number_defocus = defocus_stack.size\n",
    "\n",
    "voxel_size = (pixel_size, pixel_size, dz)\n",
    "phase_obj_3d = PhaseObject3D(shape = pot_stack.shape, voxel_size = voxel_size)\n",
    "\n",
    "fx_illu_list = [0]\n",
    "fy_illu_list = [0]\n",
    "solver_params = dict(wavelength = wavelength, na = na, \\\n",
    "                     propagation_distance_list = defocus_stack, rotation_angle_list = tilt_angles, \\\n",
    "                     RI_measure = 1.0, sigma = sigma * pixel_size, \\\n",
    "                     fx_illu_list = fx_illu_list, fy_illu_list = fy_illu_list, \\\n",
    "                     pad = flag_crop_fov, pad_size = pad_size,\\\n",
    "                     slice_binning_factor = slice_binning_factor,\\\n",
    "                     rotation_pad = flag_rotation_pad)\n",
    "\n",
    "solver_obj    = TomographySolver(phase_obj_3d, **solver_params)\n",
    "solver_obj.setScatteringMethod(model = \"MultiPhaseContrast\")\n",
    "solver_obj._x = pot_stack.astype(\"complex64\")"
   ]
  },
  {
   "cell_type": "code",
   "execution_count": null,
   "metadata": {
    "scrolled": true
   },
   "outputs": [],
   "source": [
    "with contexttimer.Timer() as timer:\n",
    "    amplitude_measure = np.squeeze(solver_obj.forwardPredict())\n",
    "    print(timer.elapsed)"
   ]
  },
  {
   "cell_type": "markdown",
   "metadata": {},
   "source": [
    "#### Check final measurement shapes"
   ]
  },
  {
   "cell_type": "code",
   "execution_count": null,
   "metadata": {},
   "outputs": [],
   "source": [
    "np.squeeze(np.abs(amplitude_measure[:,:,:,:])).shape"
   ]
  },
  {
   "cell_type": "markdown",
   "metadata": {},
   "source": [
    "#### Visualize measurements"
   ]
  },
  {
   "cell_type": "code",
   "execution_count": null,
   "metadata": {
    "scrolled": true
   },
   "outputs": [],
   "source": [
    "compare3DStack(np.squeeze(np.abs(amplitude_measure[:,:,0,:])), np.squeeze(np.abs(amplitude_measure[:,:,2,:])), clim=(0.5,1.5))"
   ]
  },
  {
   "cell_type": "markdown",
   "metadata": {},
   "source": [
    "#### Save datasets"
   ]
  },
  {
   "cell_type": "code",
   "execution_count": null,
   "metadata": {},
   "outputs": [],
   "source": [
    "if flag_save:\n",
    "    data = {}\n",
    "    # Ground truth\n",
    "    data[\"pot_stack\"] = pot_stack\n",
    "    if na < 1:\n",
    "        data[\"pot_stack_gt\"] = pot_stack_gt\n",
    "    \n",
    "    # Measurement \n",
    "    data[\"dz\"] = pixel_size\n",
    "    data[\"pixel_size\"] = pixel_size\n",
    "    data[\"wavelength\"] = wavelength\n",
    "    data[\"sigma\"] = sigma\n",
    "    data[\"amplitude_measure\"] = amplitude_measure\n",
    "    data[\"tilt_angles\"] = tilt_angles\n",
    "    data[\"defocus_stack\"] = defocus_stack\n",
    "    data[\"na\"] = na\n",
    "    data[\"obj_shape\"] = pot_stack.shape\n",
    "    sio.savemat(outdir+fn+\".mat\", data)"
   ]
  }
 ],
 "metadata": {
  "kernelspec": {
   "display_name": "Python 3",
   "language": "python",
   "name": "python3"
  },
  "language_info": {
   "codemirror_mode": {
    "name": "ipython",
    "version": 3
   },
   "file_extension": ".py",
   "mimetype": "text/x-python",
   "name": "python",
   "nbconvert_exporter": "python",
   "pygments_lexer": "ipython3",
   "version": "3.6.5"
  }
 },
 "nbformat": 4,
 "nbformat_minor": 2
}
